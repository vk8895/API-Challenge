{
 "cells": [
  {
   "cell_type": "code",
   "execution_count": 102,
   "metadata": {},
   "outputs": [],
   "source": [
    "import json\n",
    "import numpy\n",
    "import gmaps\n",
    "import random\n",
    "import requests\n",
    "import pandas as pd\n",
    "from configg import gkey\n",
    "from configo import okey\n",
    "from pprint import pprint\n",
    "from citipy import citipy\n",
    "import matplotlib.pyplot as plt\n",
    "from scipy.stats import linregress"
   ]
  },
  {
   "cell_type": "code",
   "execution_count": 103,
   "metadata": {
    "scrolled": true
   },
   "outputs": [
    {
     "data": {
      "application/vnd.jupyter.widget-view+json": {
       "model_id": "98d9154ff2c64f9d91d90f941a8dd6f1",
       "version_major": 2,
       "version_minor": 0
      },
      "text/plain": [
       "Figure(layout=FigureLayout(border='1px solid black', height='600px', margin='0 auto 0 auto', padding='3px', wi…"
      ]
     },
     "metadata": {},
     "output_type": "display_data"
    }
   ],
   "source": [
    "#Task A: Create a heat map that displays the humidity for every city from WeatherPy \n",
    "\n",
    "#Sub-Task #1: Import cities.csv file and convert to dataframe\n",
    "csv_path = \"weather_data.csv\"\n",
    "weather_df = pd.read_csv(csv_path)\n",
    "\n",
    "#Sub-Task #2: Create dataframe of location and humidity for heat map\n",
    "locations = weather_df[[\"Lat (deg)\",\"Lon (deg)\"]].astype(float)\n",
    "humidity = weather_df[\"Humidity %\"].astype(float)\n",
    "\n",
    "#Sub-Task #2: Access gmaps\n",
    "gmaps.configure(api_key=gkey)\n",
    "\n",
    "#Sub-Task #3: Size Figure\n",
    "figure_layout = {\n",
    "    'width': '1200px',\n",
    "    'height': '600px',\n",
    "    'border': '1px solid black',\n",
    "    'padding': '3px',\n",
    "    'margin': '0 auto 0 auto'\n",
    "}\n",
    "fig = gmaps.figure(layout=figure_layout)\n",
    "\n",
    "#Sub-Task 4: Assign marker layer to a variable\n",
    "heat_layer = gmaps.heatmap_layer(locations, weights=humidity,\n",
    "                                 dissipating=False, max_intensity=100,\n",
    "                                point_radius=10)\n",
    "#Sub-Task 5: Add layer to the map\n",
    "fig.add_layer(heat_layer)\n",
    "fig\n"
   ]
  },
  {
   "cell_type": "code",
   "execution_count": 104,
   "metadata": {},
   "outputs": [
    {
     "data": {
      "text/html": [
       "<div>\n",
       "<style scoped>\n",
       "    .dataframe tbody tr th:only-of-type {\n",
       "        vertical-align: middle;\n",
       "    }\n",
       "\n",
       "    .dataframe tbody tr th {\n",
       "        vertical-align: top;\n",
       "    }\n",
       "\n",
       "    .dataframe thead th {\n",
       "        text-align: right;\n",
       "    }\n",
       "</style>\n",
       "<table border=\"1\" class=\"dataframe\">\n",
       "  <thead>\n",
       "    <tr style=\"text-align: right;\">\n",
       "      <th></th>\n",
       "      <th>city</th>\n",
       "      <th>Lat (deg)</th>\n",
       "      <th>Lon (deg)</th>\n",
       "      <th>Temp (F)</th>\n",
       "      <th>Humidity %</th>\n",
       "      <th>Cloudiness %</th>\n",
       "      <th>Wind Speed (mph)</th>\n",
       "    </tr>\n",
       "  </thead>\n",
       "  <tbody>\n",
       "    <tr>\n",
       "      <th>57</th>\n",
       "      <td>saskylakh</td>\n",
       "      <td>71.92</td>\n",
       "      <td>114.08</td>\n",
       "      <td>36.530</td>\n",
       "      <td>93</td>\n",
       "      <td>100</td>\n",
       "      <td>12.2080</td>\n",
       "    </tr>\n",
       "    <tr>\n",
       "      <th>96</th>\n",
       "      <td>khatanga</td>\n",
       "      <td>71.97</td>\n",
       "      <td>102.50</td>\n",
       "      <td>37.952</td>\n",
       "      <td>80</td>\n",
       "      <td>100</td>\n",
       "      <td>16.0384</td>\n",
       "    </tr>\n",
       "    <tr>\n",
       "      <th>204</th>\n",
       "      <td>longyearbyen</td>\n",
       "      <td>78.22</td>\n",
       "      <td>15.64</td>\n",
       "      <td>37.070</td>\n",
       "      <td>75</td>\n",
       "      <td>75</td>\n",
       "      <td>13.8880</td>\n",
       "    </tr>\n",
       "    <tr>\n",
       "      <th>220</th>\n",
       "      <td>tiksi</td>\n",
       "      <td>71.69</td>\n",
       "      <td>128.87</td>\n",
       "      <td>43.910</td>\n",
       "      <td>80</td>\n",
       "      <td>78</td>\n",
       "      <td>4.4800</td>\n",
       "    </tr>\n",
       "  </tbody>\n",
       "</table>\n",
       "</div>"
      ],
      "text/plain": [
       "             city  Lat (deg)  Lon (deg)  Temp (F)  Humidity %  Cloudiness %  \\\n",
       "57      saskylakh      71.92     114.08    36.530          93           100   \n",
       "96       khatanga      71.97     102.50    37.952          80           100   \n",
       "204  longyearbyen      78.22      15.64    37.070          75            75   \n",
       "220         tiksi      71.69     128.87    43.910          80            78   \n",
       "\n",
       "     Wind Speed (mph)  \n",
       "57            12.2080  \n",
       "96            16.0384  \n",
       "204           13.8880  \n",
       "220            4.4800  "
      ]
     },
     "execution_count": 104,
     "metadata": {},
     "output_type": "execute_result"
    }
   ],
   "source": [
    "#Task B: Narrow down dataframe to 10-ish cities\n",
    "\n",
    "#Sub-Task 1: Import weather data csv\n",
    "csv_path = \"weather_data.csv\"\n",
    "weather_data = pd.read_csv(csv_path)\n",
    "weather_data\n",
    "\n",
    "#Sub-Task 2: Define criteria to narrow down cities\n",
    "weather_data_temp = weather_data.loc[weather_data[\"Temp (F)\"] < 70]\n",
    "weather_data_lat = weather_data_temp.loc[weather_data_temp[\"Lat (deg)\"] > 71.5]\n",
    "weather_data_refined = weather_data_lat.loc[weather_data_lat[\"Cloudiness %\"] > 60]\n",
    "weather_data_refined"
   ]
  },
  {
   "cell_type": "code",
   "execution_count": 105,
   "metadata": {},
   "outputs": [
    {
     "data": {
      "text/plain": [
       "'Voyennyy Gorodok'"
      ]
     },
     "execution_count": 105,
     "metadata": {},
     "output_type": "execute_result"
    }
   ],
   "source": [
    "#Task C: Find first hotel for each city above, and plot hotels on humidity heatmap (pin w/ Hotel Name, City, Country)\n",
    "\n",
    "#Sub-Task 1a: Find first hotel for each city\n",
    "base_url = \"https://maps.googleapis.com/maps/api/place/nearbysearch/json\"\n",
    "params = {\"location\": \"71.69,128.87\",\n",
    "         \"rankby\": \"distance\",\n",
    "          \"type\": \"hotel\",\n",
    "         \"key\": gkey\n",
    "         }\n",
    "\n",
    "response = requests.get(base_url, params=params).json()\n",
    "results = response['results']\n",
    "\n",
    "#Sub-Task #2a: Print relevant information\n",
    "name1 = results[0]['name']\n",
    "coor1 = results[0]['geometry']['location']\n",
    "name1"
   ]
  },
  {
   "cell_type": "code",
   "execution_count": 127,
   "metadata": {},
   "outputs": [
    {
     "name": "stdout",
     "output_type": "stream",
     "text": [
      "Too remote; are you looking for hotels or polar bears?\n"
     ]
    }
   ],
   "source": [
    "#Sub-Task 1b: Find first hotel for each city\n",
    "base_url = \"https://maps.googleapis.com/maps/api/place/nearbysearch/json\"\n",
    "params = {\"location\": \"78.92,15.64\",\n",
    "         \"rankby\": \"distance\",\n",
    "          \"type\": \"hotel\",\n",
    "         \"key\": gkey\n",
    "         }\n",
    "\n",
    "response = requests.get(base_url, params=params).json()\n",
    "results = response['results']\n",
    "\n",
    "#Sub-Task #2b: Print relevant information\n",
    "try:\n",
    "    name2 = results[0]['name']\n",
    "    coor2 = results[0]['geometry']['location']\n",
    "    loca2 = results[0]['plus_code']['compound_code']\n",
    "except (IndexError):\n",
    "    print(\"Too remote; are you looking for hotels or polar bears?\")"
   ]
  },
  {
   "cell_type": "code",
   "execution_count": 108,
   "metadata": {},
   "outputs": [
    {
     "data": {
      "text/plain": [
       "'Saskylakh Aeroport'"
      ]
     },
     "execution_count": 108,
     "metadata": {},
     "output_type": "execute_result"
    }
   ],
   "source": [
    "#Sub-Task 1c: Find first hotel for each city\n",
    "base_url = \"https://maps.googleapis.com/maps/api/place/nearbysearch/json\"\n",
    "params = {\"location\": \"71.92,114.08\",\n",
    "         \"rankby\": \"distance\",\n",
    "          \"type\": \"hotel\",\n",
    "         \"key\": gkey\n",
    "         }\n",
    "\n",
    "response = requests.get(base_url, params=params).json()\n",
    "results = response['results']\n",
    "\n",
    "#Sub-Task #2c: Print relevant information\n",
    "name3 = results[0]['name']\n",
    "coor3 = results[0]['geometry']['location']\n",
    "loca3 = results[0]['plus_code']['compound_code']\n",
    "name3"
   ]
  },
  {
   "cell_type": "code",
   "execution_count": 110,
   "metadata": {},
   "outputs": [
    {
     "data": {
      "text/plain": [
       "'Khatanga'"
      ]
     },
     "execution_count": 110,
     "metadata": {},
     "output_type": "execute_result"
    }
   ],
   "source": [
    "#Sub-Task 1d: Find first hotel for each city\n",
    "base_url = \"https://maps.googleapis.com/maps/api/place/nearbysearch/json\"\n",
    "params = {\"location\": \"71.97,102.50\",\n",
    "         \"rankby\": \"distance\",\n",
    "          \"type\": \"hotel\",\n",
    "         \"key\": gkey\n",
    "         }\n",
    "\n",
    "response = requests.get(base_url, params=params).json()\n",
    "results = response['results']\n",
    "\n",
    "#Sub-Task #2d: Print relevant information\n",
    "name4 = results[0]['name']\n",
    "coor4 = results[0]['geometry']['location']\n",
    "loca4 = results[0]['plus_code']['compound_code']\n",
    "name4"
   ]
  },
  {
   "cell_type": "code",
   "execution_count": 152,
   "metadata": {},
   "outputs": [
    {
     "name": "stderr",
     "output_type": "stream",
     "text": [
      "/Users/Varun/opt/anaconda3/envs/PythonData/lib/python3.6/site-packages/ipykernel_launcher.py:1: SettingWithCopyWarning: \n",
      "A value is trying to be set on a copy of a slice from a DataFrame.\n",
      "Try using .loc[row_indexer,col_indexer] = value instead\n",
      "\n",
      "See the caveats in the documentation: https://pandas.pydata.org/pandas-docs/stable/user_guide/indexing.html#returning-a-view-versus-a-copy\n",
      "  \"\"\"Entry point for launching an IPython kernel.\n"
     ]
    },
    {
     "data": {
      "application/vnd.jupyter.widget-view+json": {
       "model_id": "cbb7daa6c2d240d5bdfc8d00691838da",
       "version_major": 2,
       "version_minor": 0
      },
      "text/plain": [
       "Figure(layout=FigureLayout(border='1px solid black', height='300px', margin='0 auto 0 auto', padding='1px', wi…"
      ]
     },
     "metadata": {},
     "output_type": "display_data"
    }
   ],
   "source": [
    "coord = [(71.92,114.08),(71.97,102.5),(78.22,15.64),(71.69,128.87)]\n",
    "\n",
    "figure_layout = {\n",
    "    'width': '900px',\n",
    "    'height': '300px',\n",
    "    'border': '1px solid black',\n",
    "    'padding': '1px',\n",
    "    'margin': '0 auto 0 auto'\n",
    "}\n",
    "#name = list(map(str, list(weather_data_refined[\"Closest Hotel\"])))\n",
    "hotel_info = [\n",
    "    {'name': 'Voyennyy Gorodok', 'location': 'Saskylakh', 'country': 'Russia'}\n",
    "]\n",
    "fig2 = gmaps.figure(layout=figure_layout)\n",
    "markers = gmaps.marker_layer(coord)\n",
    "fig2.add_layer(markers)\n",
    "fig2"
   ]
  },
  {
   "cell_type": "code",
   "execution_count": 153,
   "metadata": {},
   "outputs": [
    {
     "name": "stderr",
     "output_type": "stream",
     "text": [
      "/Users/Varun/opt/anaconda3/envs/PythonData/lib/python3.6/site-packages/ipykernel_launcher.py:1: SettingWithCopyWarning: \n",
      "A value is trying to be set on a copy of a slice from a DataFrame.\n",
      "Try using .loc[row_indexer,col_indexer] = value instead\n",
      "\n",
      "See the caveats in the documentation: https://pandas.pydata.org/pandas-docs/stable/user_guide/indexing.html#returning-a-view-versus-a-copy\n",
      "  \"\"\"Entry point for launching an IPython kernel.\n"
     ]
    },
    {
     "data": {
      "text/html": [
       "<div>\n",
       "<style scoped>\n",
       "    .dataframe tbody tr th:only-of-type {\n",
       "        vertical-align: middle;\n",
       "    }\n",
       "\n",
       "    .dataframe tbody tr th {\n",
       "        vertical-align: top;\n",
       "    }\n",
       "\n",
       "    .dataframe thead th {\n",
       "        text-align: right;\n",
       "    }\n",
       "</style>\n",
       "<table border=\"1\" class=\"dataframe\">\n",
       "  <thead>\n",
       "    <tr style=\"text-align: right;\">\n",
       "      <th></th>\n",
       "      <th>city</th>\n",
       "      <th>Lat (deg)</th>\n",
       "      <th>Lon (deg)</th>\n",
       "      <th>Temp (F)</th>\n",
       "      <th>Humidity %</th>\n",
       "      <th>Cloudiness %</th>\n",
       "      <th>Wind Speed (mph)</th>\n",
       "      <th>Closest Hotel</th>\n",
       "    </tr>\n",
       "  </thead>\n",
       "  <tbody>\n",
       "    <tr>\n",
       "      <th>57</th>\n",
       "      <td>saskylakh</td>\n",
       "      <td>71.92</td>\n",
       "      <td>114.08</td>\n",
       "      <td>36.530</td>\n",
       "      <td>93</td>\n",
       "      <td>100</td>\n",
       "      <td>12.2080</td>\n",
       "      <td>Voyennyy Gorodok</td>\n",
       "    </tr>\n",
       "    <tr>\n",
       "      <th>96</th>\n",
       "      <td>khatanga</td>\n",
       "      <td>71.97</td>\n",
       "      <td>102.50</td>\n",
       "      <td>37.952</td>\n",
       "      <td>80</td>\n",
       "      <td>100</td>\n",
       "      <td>16.0384</td>\n",
       "      <td>Polar Bear Inn</td>\n",
       "    </tr>\n",
       "    <tr>\n",
       "      <th>204</th>\n",
       "      <td>longyearbyen</td>\n",
       "      <td>78.22</td>\n",
       "      <td>15.64</td>\n",
       "      <td>37.070</td>\n",
       "      <td>75</td>\n",
       "      <td>75</td>\n",
       "      <td>13.8880</td>\n",
       "      <td>Saskylakh Aeroport</td>\n",
       "    </tr>\n",
       "    <tr>\n",
       "      <th>220</th>\n",
       "      <td>tiksi</td>\n",
       "      <td>71.69</td>\n",
       "      <td>128.87</td>\n",
       "      <td>43.910</td>\n",
       "      <td>80</td>\n",
       "      <td>78</td>\n",
       "      <td>4.4800</td>\n",
       "      <td>Khatanga</td>\n",
       "    </tr>\n",
       "  </tbody>\n",
       "</table>\n",
       "</div>"
      ],
      "text/plain": [
       "             city  Lat (deg)  Lon (deg)  Temp (F)  Humidity %  Cloudiness %  \\\n",
       "57      saskylakh      71.92     114.08    36.530          93           100   \n",
       "96       khatanga      71.97     102.50    37.952          80           100   \n",
       "204  longyearbyen      78.22      15.64    37.070          75            75   \n",
       "220         tiksi      71.69     128.87    43.910          80            78   \n",
       "\n",
       "     Wind Speed (mph)       Closest Hotel  \n",
       "57            12.2080    Voyennyy Gorodok  \n",
       "96            16.0384      Polar Bear Inn  \n",
       "204           13.8880  Saskylakh Aeroport  \n",
       "220            4.4800            Khatanga  "
      ]
     },
     "execution_count": 153,
     "metadata": {},
     "output_type": "execute_result"
    }
   ],
   "source": [
    "weather_data_refined[\"Closest Hotel\"]=[\"Voyennyy Gorodok\",\"Polar Bear Inn\",\"Saskylakh Aeroport\",\"Khatanga\"]\n",
    "weather_data_refined\n"
   ]
  },
  {
   "cell_type": "code",
   "execution_count": null,
   "metadata": {},
   "outputs": [],
   "source": []
  }
 ],
 "metadata": {
  "kernelspec": {
   "display_name": "Python 3",
   "language": "python",
   "name": "python3"
  },
  "language_info": {
   "codemirror_mode": {
    "name": "ipython",
    "version": 3
   },
   "file_extension": ".py",
   "mimetype": "text/x-python",
   "name": "python",
   "nbconvert_exporter": "python",
   "pygments_lexer": "ipython3",
   "version": "3.6.10"
  }
 },
 "nbformat": 4,
 "nbformat_minor": 4
}
