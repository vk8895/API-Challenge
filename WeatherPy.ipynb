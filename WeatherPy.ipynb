{
 "cells": [
  {
   "cell_type": "code",
   "execution_count": 14,
   "metadata": {},
   "outputs": [],
   "source": [
    "import json\n",
    "import numpy\n",
    "import random\n",
    "import requests\n",
    "import pandas as pd\n",
    "from configg import gkey\n",
    "from configo import okey\n",
    "from pprint import pprint\n",
    "from citipy import citipy\n",
    "import matplotlib.pyplot as plt\n",
    "from scipy.stats import linregress\n",
    "\n",
    "#!pip install citipy\n",
    "\n"
   ]
  },
  {
   "cell_type": "code",
   "execution_count": 15,
   "metadata": {},
   "outputs": [],
   "source": [
    "#Requirement I: Using Citypy library, create list of 500 cities you can visualize weather patterns for. \n",
    "\n",
    "#Task A: Create list of 500+ of geographic coordinates to cross-reference against CitiPy Library for city list\n",
    "\n",
    "#Sub-Task 1: Create list of latitudes\n",
    "randomlat = []\n",
    "for i in range(0,10):\n",
    "    n = random.randint(-90,90)\n",
    "    randomlat.append(n)\n",
    "#print(randomlat)\n",
    "\n",
    "#Sub-Task #2: Create list of longitudes\n",
    "randomlon = []\n",
    "for i in range(0,10):\n",
    "    n = random.randint(-180,180)\n",
    "    randomlon.append(n)\n",
    "#print(randomlon)\n",
    "\n",
    "#Sub-Task #3: Create list of latitude-longitude pairs from individual lists\n",
    "pairs =[[a,b] for a in randomlat\n",
    "       for b in randomlon if a!= b]\n",
    "#print(pairs)\n",
    "\n",
    "#Sub-Task #4: Loop CitiPy Library to match coordinate pairs with city names, and create a list of city names \n",
    "cities = []\n",
    "for geo_coord in pairs:\n",
    "    lat, lon = geo_coord\n",
    "    cities.append(citipy.nearest_city(lat, lon))\n",
    "\n",
    "#Sub-Task #5: Store lists of city names and country codes\n",
    "country_code = []\n",
    "city_names = []\n",
    "\n",
    "for city in cities:\n",
    "    country_code.append(city.country_code)\n",
    "    city_names.append(city.city_name)\n",
    "#print(city_names)\n",
    "\n",
    "#Sub-Task 6: Export list of cities as csv\n",
    "city_df = pd.DataFrame(city_names)\n",
    "city_df.to_csv(\"cities.csv\", index=False, header=True)\n",
    "\n",
    "pairs_df = pd.DataFrame(pairs)\n",
    "pairs_df.to_csv(\"pairs.csv\", index=False, header=True)"
   ]
  },
  {
   "cell_type": "code",
   "execution_count": 16,
   "metadata": {},
   "outputs": [
    {
     "name": "stdout",
     "output_type": "stream",
     "text": [
      "Lat info is: [48.85, -33.93, 40.71, -33.87, 55.75, -36.87, 28.61, -34.61]\n",
      "Temp info is: [294.2, 283.94, 307.63, 281.24, 290.12, 286.18, 300.5, 292.1]\n",
      "Humidity info is: [35, 93, 46, 66, 93, 100, 100, 72]\n",
      "Cloudiness info is: [14, 0, 20, 0, 100, 4, 90, 100]\n",
      "Wind Speed info is: [4.6, 1, 5.7, 6.2, 2, 3.1, 5.1, 2.6]\n"
     ]
    }
   ],
   "source": [
    "#Task B: Given city list, obtain directed weather information from OpenWeather API\n",
    "\n",
    "#Sub-Task #1: Construct Query URL\n",
    "url = \"http://api.openweathermap.org/data/2.5/weather?\"\n",
    "query_url = f\"{url}appid={okey}&q=\"\n",
    "\n",
    "#Sub-Task #2: \n",
    "lat = []\n",
    "temp = []\n",
    "hum = []\n",
    "cloud = []\n",
    "wind = []\n",
    "\n",
    "#temp working code\n",
    "city_names1 = ['Paris','Cape Town', 'New York', 'Sydney', 'Moscow', 'Auckland','New Delhi','Buenos Aires']\n",
    "\n",
    "for city in city_names1:\n",
    "    response = requests.get(query_url + city).json()\n",
    "    lat.append(response['coord']['lat'])\n",
    "    temp.append(response['main']['temp'])\n",
    "    hum.append(response['main']['humidity'])\n",
    "    cloud.append(response['clouds']['all'])\n",
    "    wind.append(response['wind']['speed'])\n",
    "\n",
    "print(f\"Lat info is: {lat}\")\n",
    "print(f\"Temp info is: {temp}\")\n",
    "print(f\"Humidity info is: {hum}\")\n",
    "print(f\"Cloudiness info is: {cloud}\")\n",
    "print(f\"Wind Speed info is: {wind}\")"
   ]
  },
  {
   "cell_type": "code",
   "execution_count": 17,
   "metadata": {},
   "outputs": [
    {
     "data": {
      "text/html": [
       "<div>\n",
       "<style scoped>\n",
       "    .dataframe tbody tr th:only-of-type {\n",
       "        vertical-align: middle;\n",
       "    }\n",
       "\n",
       "    .dataframe tbody tr th {\n",
       "        vertical-align: top;\n",
       "    }\n",
       "\n",
       "    .dataframe thead th {\n",
       "        text-align: right;\n",
       "    }\n",
       "</style>\n",
       "<table border=\"1\" class=\"dataframe\">\n",
       "  <thead>\n",
       "    <tr style=\"text-align: right;\">\n",
       "      <th></th>\n",
       "      <th>city</th>\n",
       "      <th>Lat (deg)</th>\n",
       "      <th>Temp (K)</th>\n",
       "      <th>Humidity %</th>\n",
       "      <th>Cloudiness %</th>\n",
       "      <th>Wind Speed (mph)</th>\n",
       "    </tr>\n",
       "  </thead>\n",
       "  <tbody>\n",
       "    <tr>\n",
       "      <th>0</th>\n",
       "      <td>Paris</td>\n",
       "      <td>48.85</td>\n",
       "      <td>294.20</td>\n",
       "      <td>35</td>\n",
       "      <td>14</td>\n",
       "      <td>4.6</td>\n",
       "    </tr>\n",
       "    <tr>\n",
       "      <th>1</th>\n",
       "      <td>Cape Town</td>\n",
       "      <td>-33.93</td>\n",
       "      <td>283.94</td>\n",
       "      <td>93</td>\n",
       "      <td>0</td>\n",
       "      <td>1.0</td>\n",
       "    </tr>\n",
       "    <tr>\n",
       "      <th>2</th>\n",
       "      <td>New York</td>\n",
       "      <td>40.71</td>\n",
       "      <td>307.63</td>\n",
       "      <td>46</td>\n",
       "      <td>20</td>\n",
       "      <td>5.7</td>\n",
       "    </tr>\n",
       "    <tr>\n",
       "      <th>3</th>\n",
       "      <td>Sydney</td>\n",
       "      <td>-33.87</td>\n",
       "      <td>281.24</td>\n",
       "      <td>66</td>\n",
       "      <td>0</td>\n",
       "      <td>6.2</td>\n",
       "    </tr>\n",
       "    <tr>\n",
       "      <th>4</th>\n",
       "      <td>Moscow</td>\n",
       "      <td>55.75</td>\n",
       "      <td>290.12</td>\n",
       "      <td>93</td>\n",
       "      <td>100</td>\n",
       "      <td>2.0</td>\n",
       "    </tr>\n",
       "    <tr>\n",
       "      <th>5</th>\n",
       "      <td>Auckland</td>\n",
       "      <td>-36.87</td>\n",
       "      <td>286.18</td>\n",
       "      <td>100</td>\n",
       "      <td>4</td>\n",
       "      <td>3.1</td>\n",
       "    </tr>\n",
       "    <tr>\n",
       "      <th>6</th>\n",
       "      <td>New Delhi</td>\n",
       "      <td>28.61</td>\n",
       "      <td>300.50</td>\n",
       "      <td>100</td>\n",
       "      <td>90</td>\n",
       "      <td>5.1</td>\n",
       "    </tr>\n",
       "    <tr>\n",
       "      <th>7</th>\n",
       "      <td>Buenos Aires</td>\n",
       "      <td>-34.61</td>\n",
       "      <td>292.10</td>\n",
       "      <td>72</td>\n",
       "      <td>100</td>\n",
       "      <td>2.6</td>\n",
       "    </tr>\n",
       "  </tbody>\n",
       "</table>\n",
       "</div>"
      ],
      "text/plain": [
       "           city  Lat (deg)  Temp (K)  Humidity %  Cloudiness %  \\\n",
       "0         Paris      48.85    294.20          35            14   \n",
       "1     Cape Town     -33.93    283.94          93             0   \n",
       "2      New York      40.71    307.63          46            20   \n",
       "3        Sydney     -33.87    281.24          66             0   \n",
       "4        Moscow      55.75    290.12          93           100   \n",
       "5      Auckland     -36.87    286.18         100             4   \n",
       "6     New Delhi      28.61    300.50         100            90   \n",
       "7  Buenos Aires     -34.61    292.10          72           100   \n",
       "\n",
       "   Wind Speed (mph)  \n",
       "0               4.6  \n",
       "1               1.0  \n",
       "2               5.7  \n",
       "3               6.2  \n",
       "4               2.0  \n",
       "5               3.1  \n",
       "6               5.1  \n",
       "7               2.6  "
      ]
     },
     "execution_count": 17,
     "metadata": {},
     "output_type": "execute_result"
    }
   ],
   "source": [
    "#Task C: Given weather data for city list, create dataframe of all requested weather data\n",
    "\n",
    "weather_df = {\"city\": city_names1, \n",
    "              \"Lat (deg)\": lat, \n",
    "              \"Temp (K)\": temp, \n",
    "              \"Humidity %\": hum, \n",
    "              \"Cloudiness %\": cloud, \n",
    "              \"Wind Speed (mph)\": wind}\n",
    "\n",
    "weather_data = pd.DataFrame(weather_df)\n",
    "weather_data.to_csv(\"weather_data.csv\", index=False, header=True)\n",
    "weather_data"
   ]
  },
  {
   "cell_type": "code",
   "execution_count": 18,
   "metadata": {},
   "outputs": [
    {
     "data": {
      "image/png": "[encoded data removed]",
      "text/plain": [
       "<Figure size 432x288 with 1 Axes>"
      ]
     },
     "metadata": {
      "needs_background": "light"
     },
     "output_type": "display_data"
    },
    {
     "data": {
      "image/png": "[encoded data removed]",
      "text/plain": [
       "<Figure size 432x288 with 1 Axes>"
      ]
     },
     "metadata": {
      "needs_background": "light"
     },
     "output_type": "display_data"
    },
    {
     "data": {
      "image/png": "[encoded data removed]",
      "text/plain": [
       "<Figure size 432x288 with 1 Axes>"
      ]
     },
     "metadata": {
      "needs_background": "light"
     },
     "output_type": "display_data"
    },
    {
     "data": {
      "image/png": "[encoded data removed]",
      "text/plain": [
       "<Figure size 432x288 with 1 Axes>"
      ]
     },
     "metadata": {
      "needs_background": "light"
     },
     "output_type": "display_data"
    }
   ],
   "source": [
    "#Task D: Given weather dataframe, construct requested plots with explanations of trends\n",
    "\n",
    "#Sub-Task #1: Temperature vs. Latitude\n",
    "plt.scatter(weather_data[\"Lat (deg)\"],weather_data[\"Temp (K)\"], color=\"lightblue\")\n",
    "plt.title(\"Temperature in World Cities\")\n",
    "plt.ylabel(\"Temperature (K)\")\n",
    "plt.xlabel(\"Latitude\")\n",
    "plt.show()\n",
    "\n",
    "#Temperature vs. Latitude Observations:\n",
    "\n",
    "#Sub-Task #2: Humidity vs. Latitude\n",
    "plt.scatter(weather_data[\"Lat (deg)\"],weather_data[\"Humidity %\"], color=\"red\")\n",
    "plt.title(\"Humidity in World Cities\")\n",
    "plt.ylabel(\"Humidity %\")\n",
    "plt.xlabel(\"Latitude\")\n",
    "plt.show()\n",
    "\n",
    "#Humidity vs. Latitude Observations:\n",
    "\n",
    "#Sub-Task #3: Cloudiness vs. Latitude\n",
    "plt.scatter(weather_data[\"Lat (deg)\"],weather_data[\"Cloudiness %\"], color=\"blue\")\n",
    "plt.title(\"Cloudiness in World Cities\")\n",
    "plt.ylabel(\"Cloudiness %\")\n",
    "plt.xlabel(\"Latitude\")\n",
    "plt.show()\n",
    "\n",
    "#Cloudiness vs. Latitude Observations:\n",
    "\n",
    "#Sub-Task #4: Wind Speed vs. Latitude\n",
    "plt.scatter(weather_data[\"Lat (deg)\"],weather_data[\"Wind Speed (mph)\"], color=\"orange\")\n",
    "plt.title(\"Wind Speed in World Cities\")\n",
    "plt.ylabel(\"Wind Speed (mph)\")\n",
    "plt.xlabel(\"Latitude\")\n",
    "plt.show()\n",
    "\n",
    "#Wind Speed vs. Latitude Observations:"
   ]
  },
  {
   "cell_type": "code",
   "execution_count": 19,
   "metadata": {},
   "outputs": [
    {
     "data": {
      "image/png": "[encoded data removed]",
      "text/plain": [
       "<Figure size 432x288 with 1 Axes>"
      ]
     },
     "metadata": {
      "needs_background": "light"
     },
     "output_type": "display_data"
    },
    {
     "name": "stdout",
     "output_type": "stream",
     "text": [
      "The r-squared is: 0.45712091344553535\n",
      "y =-0.44x + 317.39\n"
     ]
    },
    {
     "data": {
      "image/png": "[encoded data removed]",
      "text/plain": [
       "<Figure size 432x288 with 1 Axes>"
      ]
     },
     "metadata": {
      "needs_background": "light"
     },
     "output_type": "display_data"
    },
    {
     "name": "stdout",
     "output_type": "stream",
     "text": [
      "The r-squared is: 0.0778407222077827\n",
      "y =-0.92x + 253.96\n"
     ]
    }
   ],
   "source": [
    "#Task E: Split the weather dataset by NHS/SHS Cities, then chart and do linear regression on Temperature vs. Latitude \n",
    "\n",
    "#NHS\n",
    "nhs_weather_data = weather_data.loc[weather_data[\"Lat (deg)\"] > 0]\n",
    "\n",
    "x_values = nhs_weather_data['Lat (deg)']\n",
    "y_values = nhs_weather_data['Temp (K)']\n",
    "(slope, intercept, rvalue, pvalue, stderr) = linregress(x_values, y_values)\n",
    "regress_values = x_values * slope + intercept\n",
    "line_eq = \"y =\" + str(round(slope,2)) + \"x + \" + str(round(intercept,2))\n",
    "\n",
    "plt.scatter(nhs_weather_data[\"Lat (deg)\"],nhs_weather_data[\"Temp (K)\"], color=\"lightblue\")\n",
    "plt.title(\"Temperature in NHS\")\n",
    "plt.ylabel(\"Temperature (K)\")\n",
    "plt.xlabel(\"Latitude\")\n",
    "plt.show()\n",
    "print(f\"The r-squared is: {rvalue**2}\")\n",
    "print(line_eq)\n",
    "\n",
    "#SHS\n",
    "shs_weather_data = weather_data.loc[weather_data[\"Lat (deg)\"] < 0]\n",
    "\n",
    "x_values = shs_weather_data['Lat (deg)']\n",
    "y_values = shs_weather_data['Temp (K)']\n",
    "(slope, intercept, rvalue, pvalue, stderr) = linregress(x_values, y_values)\n",
    "regress_values = x_values * slope + intercept\n",
    "line_eq = \"y =\" + str(round(slope,2)) + \"x + \" + str(round(intercept,2))\n",
    "\n",
    "plt.scatter(shs_weather_data[\"Lat (deg)\"],shs_weather_data[\"Temp (K)\"], color=\"lightblue\")\n",
    "plt.title(\"Temperature in SHS\")\n",
    "plt.ylabel(\"Temperature (K)\")\n",
    "plt.xlabel(\"Latitude\")\n",
    "plt.show() \n",
    "print(f\"The r-squared is: {rvalue**2}\")\n",
    "print(line_eq)"
   ]
  },
  {
   "cell_type": "code",
   "execution_count": 20,
   "metadata": {},
   "outputs": [
    {
     "data": {
      "image/png": "[encoded data removed]",
      "text/plain": [
       "<Figure size 432x288 with 1 Axes>"
      ]
     },
     "metadata": {
      "needs_background": "light"
     },
     "output_type": "display_data"
    },
    {
     "name": "stdout",
     "output_type": "stream",
     "text": [
      "The r-squared is: 0.06193614519625168\n",
      "y =-0.7x + 98.9\n"
     ]
    },
    {
     "data": {
      "image/png": "[encoded data removed]",
      "text/plain": [
       "<Figure size 432x288 with 1 Axes>"
      ]
     },
     "metadata": {
      "needs_background": "light"
     },
     "output_type": "display_data"
    },
    {
     "name": "stdout",
     "output_type": "stream",
     "text": [
      "The r-squared is: 0.4156009224252659\n",
      "y =-7.47x + -177.53\n"
     ]
    }
   ],
   "source": [
    "#Task F: Split the weather dataset by NHS/SHS Cities, then chart and do linear regression on Humidity vs. Latitude\n",
    "\n",
    "#NHS\n",
    "nhs_weather_data = weather_data.loc[weather_data[\"Lat (deg)\"] > 0]\n",
    "\n",
    "x_values = nhs_weather_data['Lat (deg)']\n",
    "y_values = nhs_weather_data['Humidity %']\n",
    "(slope, intercept, rvalue, pvalue, stderr) = linregress(x_values, y_values)\n",
    "regress_values = x_values * slope + intercept\n",
    "line_eq = \"y =\" + str(round(slope,2)) + \"x + \" + str(round(intercept,2))\n",
    "\n",
    "plt.scatter(nhs_weather_data[\"Lat (deg)\"],nhs_weather_data[\"Humidity %\"], color=\"lightblue\")\n",
    "plt.title(\"Humidity in NHS\")\n",
    "plt.ylabel(\"Humidity %\")\n",
    "plt.xlabel(\"Latitude\")\n",
    "plt.show()\n",
    "print(f\"The r-squared is: {rvalue**2}\")\n",
    "print(line_eq)\n",
    "\n",
    "#SHS\n",
    "shs_weather_data = weather_data.loc[weather_data[\"Lat (deg)\"] < 0]\n",
    "\n",
    "x_values = shs_weather_data['Lat (deg)']\n",
    "y_values = shs_weather_data['Humidity %']\n",
    "(slope, intercept, rvalue, pvalue, stderr) = linregress(x_values, y_values)\n",
    "regress_values = x_values * slope + intercept\n",
    "line_eq = \"y =\" + str(round(slope,2)) + \"x + \" + str(round(intercept,2))\n",
    "\n",
    "plt.scatter(shs_weather_data[\"Lat (deg)\"],shs_weather_data[\"Humidity %\"], color=\"lightblue\")\n",
    "plt.title(\"Humidity in SHS\")\n",
    "plt.ylabel(\"Humidity %\")\n",
    "plt.xlabel(\"Latitude\")\n",
    "plt.show()\n",
    "print(f\"The r-squared is: {rvalue**2}\")\n",
    "print(line_eq)"
   ]
  },
  {
   "cell_type": "code",
   "execution_count": 21,
   "metadata": {},
   "outputs": [
    {
     "data": {
      "image/png": "[encoded data removed]",
      "text/plain": [
       "<Figure size 432x288 with 1 Axes>"
      ]
     },
     "metadata": {
      "needs_background": "light"
     },
     "output_type": "display_data"
    },
    {
     "name": "stdout",
     "output_type": "stream",
     "text": [
      "The r-squared is: 0.0033355265382357486\n",
      "y =-0.22x + 65.75\n"
     ]
    },
    {
     "data": {
      "image/png": "[encoded data removed]",
      "text/plain": [
       "<Figure size 432x288 with 1 Axes>"
      ]
     },
     "metadata": {
      "needs_background": "light"
     },
     "output_type": "display_data"
    },
    {
     "name": "stdout",
     "output_type": "stream",
     "text": [
      "The r-squared is: 0.0037714606793549307\n",
      "y =2.15x + 101.02\n"
     ]
    }
   ],
   "source": [
    "#Task G: Split the weather dataset by NHS/SHS Cities, then chart and do linear regression on Cloudiness vs. Latitude\n",
    "\n",
    "#NHS\n",
    "nhs_weather_data = weather_data.loc[weather_data[\"Lat (deg)\"] > 0]\n",
    "\n",
    "x_values = nhs_weather_data['Lat (deg)']\n",
    "y_values = nhs_weather_data['Cloudiness %']\n",
    "(slope, intercept, rvalue, pvalue, stderr) = linregress(x_values, y_values)\n",
    "regress_values = x_values * slope + intercept\n",
    "line_eq = \"y =\" + str(round(slope,2)) + \"x + \" + str(round(intercept,2))\n",
    "\n",
    "plt.scatter(nhs_weather_data[\"Lat (deg)\"],nhs_weather_data[\"Cloudiness %\"], color=\"blue\")\n",
    "plt.title(\"Cloudiness in NHS\")\n",
    "plt.ylabel(\"Cloudiness %\")\n",
    "plt.xlabel(\"Latitude\")\n",
    "plt.show()\n",
    "print(f\"The r-squared is: {rvalue**2}\")\n",
    "print(line_eq)\n",
    "\n",
    "#SHS\n",
    "shs_weather_data = weather_data.loc[weather_data[\"Lat (deg)\"] < 0]\n",
    "\n",
    "x_values = shs_weather_data['Lat (deg)']\n",
    "y_values = shs_weather_data['Cloudiness %']\n",
    "(slope, intercept, rvalue, pvalue, stderr) = linregress(x_values, y_values)\n",
    "regress_values = x_values * slope + intercept\n",
    "line_eq = \"y =\" + str(round(slope,2)) + \"x + \" + str(round(intercept,2))\n",
    "\n",
    "plt.scatter(shs_weather_data[\"Lat (deg)\"],shs_weather_data[\"Cloudiness %\"], color=\"blue\")\n",
    "plt.title(\"Cloudiness in SHS\")\n",
    "plt.ylabel(\"Cloudiness %\")\n",
    "plt.xlabel(\"Latitude\")\n",
    "plt.show()\n",
    "print(f\"The r-squared is: {rvalue**2}\")\n",
    "print(line_eq)"
   ]
  },
  {
   "cell_type": "code",
   "execution_count": 22,
   "metadata": {},
   "outputs": [
    {
     "data": {
      "image/png": "[encoded data removed]",
      "text/plain": [
       "<Figure size 432x288 with 1 Axes>"
      ]
     },
     "metadata": {
      "needs_background": "light"
     },
     "output_type": "display_data"
    },
    {
     "name": "stdout",
     "output_type": "stream",
     "text": [
      "The r-squared is: 0.5521972821438151\n",
      "y =-0.1x + 8.86\n"
     ]
    },
    {
     "data": {
      "image/png": "[encoded data removed]",
      "text/plain": [
       "<Figure size 432x288 with 1 Axes>"
      ]
     },
     "metadata": {
      "needs_background": "light"
     },
     "output_type": "display_data"
    },
    {
     "name": "stdout",
     "output_type": "stream",
     "text": [
      "The r-squared is: 0.01116983152591464\n",
      "y =0.16x + 8.92\n"
     ]
    }
   ],
   "source": [
    "#Task H: Split the weather dataset by NHS/SHS Cities, then chart and do linear regression on Wind Speed vs. Latitude\n",
    "\n",
    "#NHS\n",
    "nhs_weather_data = weather_data.loc[weather_data[\"Lat (deg)\"] > 0]\n",
    "\n",
    "x_values = nhs_weather_data['Lat (deg)']\n",
    "y_values = nhs_weather_data['Wind Speed (mph)']\n",
    "(slope, intercept, rvalue, pvalue, stderr) = linregress(x_values, y_values)\n",
    "regress_values = x_values * slope + intercept\n",
    "line_eq = \"y =\" + str(round(slope,2)) + \"x + \" + str(round(intercept,2))\n",
    "\n",
    "plt.scatter(nhs_weather_data[\"Lat (deg)\"],nhs_weather_data[\"Wind Speed (mph)\"], color=\"orange\")\n",
    "plt.title(\"Wind Speed in NHS\")\n",
    "plt.ylabel(\"Wind Speed (mph)\")\n",
    "plt.xlabel(\"Latitude\")\n",
    "plt.show()\n",
    "print(f\"The r-squared is: {rvalue**2}\")\n",
    "print(line_eq)\n",
    "\n",
    "#SHS\n",
    "shs_weather_data = weather_data.loc[weather_data[\"Lat (deg)\"] < 0]\n",
    "\n",
    "x_values = shs_weather_data['Lat (deg)']\n",
    "y_values = shs_weather_data['Wind Speed (mph)']\n",
    "(slope, intercept, rvalue, pvalue, stderr) = linregress(x_values, y_values)\n",
    "regress_values = x_values * slope + intercept\n",
    "line_eq = \"y =\" + str(round(slope,2)) + \"x + \" + str(round(intercept,2))\n",
    "\n",
    "plt.scatter(shs_weather_data[\"Lat (deg)\"],shs_weather_data[\"Wind Speed (mph)\"], color=\"orange\")\n",
    "plt.title(\"Wind Speed in SHS\")\n",
    "plt.ylabel(\"Wind Speed (mph)\")\n",
    "plt.xlabel(\"Latitude\")\n",
    "plt.show()\n",
    "print(f\"The r-squared is: {rvalue**2}\")\n",
    "print(line_eq)"
   ]
  },
  {
   "cell_type": "code",
   "execution_count": 23,
   "metadata": {},
   "outputs": [],
   "source": [
    "#Things to Rectify:\n",
    "\n",
    "    ##Why does city_names not append properly? (Using dummy data now)\n",
    "    #Why does linear regression not show line (maybe related to above)?\n",
    "    #How to ensure city_names does not contain duplicates?\n",
    "    #How to correct temperature to F?\n",
    " "
   ]
  }
 ],
 "metadata": {
  "kernelspec": {
   "display_name": "Python 3",
   "language": "python",
   "name": "python3"
  },
  "language_info": {
   "codemirror_mode": {
    "name": "ipython",
    "version": 3
   },
   "file_extension": ".py",
   "mimetype": "text/x-python",
   "name": "python",
   "nbconvert_exporter": "python",
   "pygments_lexer": "ipython3",
   "version": "3.6.10"
  }
 },
 "nbformat": 4,
 "nbformat_minor": 4
}
